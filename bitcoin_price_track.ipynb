{
 "cells": [
  {
   "cell_type": "code",
   "execution_count": 30,
   "metadata": {},
   "outputs": [],
   "source": [
    "from bs4 import BeautifulSoup\n",
    "import requests\n",
    "import time\n",
    "import datetime\n",
    "from datetime import datetime\n",
    "import smtplib\n",
    "import ssl\n",
    "from email.message import EmailMessage\n",
    "import csv"
   ]
  },
  {
   "cell_type": "code",
   "execution_count": 31,
   "metadata": {},
   "outputs": [],
   "source": [
    "def send_email(price):\n",
    "    email_sender = 'ncduydev@gmail.com'\n",
    "    email_password = 'qcbm samk duwg fsuw'\n",
    "    email_receiver = 'ncduy1906@gmail.com'\n",
    "\n",
    "    subject = 'Bitcoin notification!!!'\n",
    "    body = \"\"\"Bitcoin is decreasing, it's only {} at the moment. It's time to buy!!! https://www.binance.com/en/price/bitcoin\n",
    "    \"\"\".format(price)\n",
    "\n",
    "    msg = EmailMessage()\n",
    "    msg['From'] = email_sender\n",
    "    msg['To'] = email_receiver\n",
    "    msg['Subject'] = subject\n",
    "    msg.set_content(body)\n",
    "\n",
    "    context = ssl.create_default_context()\n",
    "\n",
    "    with smtplib.SMTP_SSL('smtp.gmail.com', 465, context=context) as smtp:\n",
    "        smtp.login(email_sender, email_password)\n",
    "        smtp.sendmail(email_sender, email_receiver, msg.as_string())"
   ]
  },
  {
   "cell_type": "code",
   "execution_count": 32,
   "metadata": {},
   "outputs": [],
   "source": [
    "fieldnames = ['Price', 'Time']\n",
    "with open('bitcoin_price_track.csv', 'w', newline='') as csvfile:\n",
    "    writer = csv.DictWriter(csvfile, fieldnames=fieldnames)\n",
    "    writer.writeheader()"
   ]
  },
  {
   "cell_type": "code",
   "execution_count": 33,
   "metadata": {},
   "outputs": [],
   "source": [
    "def input_price(price):\n",
    "    time = datetime.now()\n",
    "    timestamp = time.strftime(\"%Y-%m-%d %H:%M:%S\")\n",
    "    \n",
    "    data = {'Price': price, 'Time': timestamp}\n",
    "    \n",
    "    with open('bitcoin_price_track.csv', 'a', newline='') as csvfile:\n",
    "        writer = csv.DictWriter(csvfile, fieldnames=fieldnames)\n",
    "        writer.writerow(data)\n",
    "    "
   ]
  },
  {
   "cell_type": "code",
   "execution_count": 34,
   "metadata": {},
   "outputs": [],
   "source": [
    "def check_price():\n",
    "    url = 'https://www.binance.com/en/price/bitcoin'\n",
    "    headers = {\n",
    "        'User-Agent': 'Mozilla/5.0 (Windows NT 10.0; Win64; x64) AppleWebKit/537.36 (KHTML, like Gecko) Chrome/124.0.0.0 Safari/537.36'\n",
    "    }\n",
    "\n",
    "    response = requests.get(url, headers=headers)\n",
    "    soup = BeautifulSoup(response.content, 'html.parser')\n",
    "    price = soup.find('div', class_ = 'css-1bwgsh3').text\n",
    "    \n",
    "    input_price(price)\n",
    "    \n",
    "    current_price = float(price.split()[1].replace(',', ''))\n",
    "    \n",
    "    # if current_price < 64000.0:\n",
    "    #     send_email(price)"
   ]
  },
  {
   "cell_type": "code",
   "execution_count": 35,
   "metadata": {},
   "outputs": [],
   "source": [
    "while True:\n",
    "    check_price()\n",
    "    time.sleep(60)"
   ]
  }
 ],
 "metadata": {
  "kernelspec": {
   "display_name": "Python 3",
   "language": "python",
   "name": "python3"
  },
  "language_info": {
   "codemirror_mode": {
    "name": "ipython",
    "version": 3
   },
   "file_extension": ".py",
   "mimetype": "text/x-python",
   "name": "python",
   "nbconvert_exporter": "python",
   "pygments_lexer": "ipython3",
   "version": "3.11.3"
  }
 },
 "nbformat": 4,
 "nbformat_minor": 2
}
